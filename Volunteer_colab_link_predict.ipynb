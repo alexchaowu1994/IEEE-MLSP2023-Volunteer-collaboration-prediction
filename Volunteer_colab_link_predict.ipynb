{
 "cells": [
  {
   "attachments": {},
   "cell_type": "markdown",
   "metadata": {},
   "source": [
    "# Code Explanation: Creating a Network Graph from CSV Data\n",
    "\n",
    "This code aims to create a network graph from the given CSV data containing information about users, tasks, and their interactions. The code uses various Python libraries like NumPy, Pandas, and NetworkX.\n",
    "\n",
    "## Importing Libraries\n",
    "- `numpy as np`: Used for numerical computations and arrays.\n",
    "- `pandas as pd`: Used for data processing and handling CSV files.\n",
    "- `os`: Operating system interface for handling file paths.\n",
    "- `networkx as nx`: A Python library for the creation, manipulation, and study of the structure, dynamics, and functions of complex networks.\n",
    "\n",
    "## Reading Data\n",
    "The code reads two CSV files, 'colab_train.csv' and 'colab_test.csv', using Pandas. It loads the training data into the `train` DataFrame and the test data into the `test` DataFrame. Both DataFrames are then concatenated into a single DataFrame called `data`.\n",
    "\n",
    "## Extracting User Information\n",
    "1. The unique user IDs are extracted from the `data` DataFrame and stored in the `nodes` array.\n",
    "2. A dictionary called `node_dict` is created to store information about each user. The user ID serves as the key, and the value is another dictionary containing various attributes of the user.\n",
    "3. The following attributes are computed and stored for each user:\n",
    "   - `org_times`: The number of times the user organized a task.\n",
    "   - `times_of_participation`: The number of unique tasks the user participated in.\n",
    "   - `task_longitude`: The average longitude of tasks organized by the user.\n",
    "   - `task_latitude`: The average latitude of tasks organized by the user.\n",
    "   - `user_location`: The most common location ID of the user.\n",
    "\n",
    "## Encoding User Locations\n",
    "A dictionary called `location_dict` is created to map unique user locations to numeric indices. This dictionary is used to encode the `user_location` attribute in the `data` DataFrame with corresponding numeric values.\n",
    "\n",
    "## Creating the Network Graph\n",
    "1. A NetworkX graph called `graph` is initialized.\n",
    "2. Nodes are added to the graph, where each node represents a user. Node attributes are set to the computed values from the `node_dict`.\n",
    "3. An edge dictionary `edge_dict` is created to store the number of interactions between pairs of users.\n",
    "4. For each unique task in the `data` DataFrame, the code extracts the participating users and creates edges between all pairs of users who participated in the same task. The weight of each edge represents the number of times the users interacted in different tasks.\n",
    "\n",
    "## Adding Edges to the Network Graph\n",
    "1. The code iterates through the `edge_dict` to add the edges and their weights to the `graph`.\n",
    "\n",
    "The resulting `graph` object represents a network graph where users are nodes, and interactions between users are represented as edges with weights indicating the number of interactions between them."
   ]
  },
  {
   "cell_type": "code",
   "execution_count": 1,
   "metadata": {},
   "outputs": [],
   "source": [
    "import numpy as np  # linear algebra\n",
    "import pandas as pd  # data processing, CSV file I/O (e.g. pd.read_csv)\n",
    "import os\n",
    "import networkx as nx"
   ]
  },
  {
   "cell_type": "code",
   "execution_count": 2,
   "metadata": {},
   "outputs": [],
   "source": [
    "# Read the training data from 'colab_train.csv' and test data from 'colab_test.csv'\n",
    "train = pd.read_csv('colab_train.csv')\n",
    "test = pd.read_csv(\"colab_test.csv\", usecols=train.columns)"
   ]
  },
  {
   "cell_type": "code",
   "execution_count": 3,
   "metadata": {},
   "outputs": [],
   "source": [
    "# Combine the training and test data into a single DataFrame called 'data'\n",
    "data = pd.concat([train, test], ignore_index=True)"
   ]
  },
  {
   "cell_type": "code",
   "execution_count": 4,
   "metadata": {},
   "outputs": [],
   "source": [
    "# Extract unique user IDs from the combined data\n",
    "nodes = data.user_id.unique()\n",
    "\n",
    "# Create a dictionary 'node_dict' to store attributes for each user\n",
    "node_dict = {}\n",
    "\n",
    "# Calculate and store attributes for each user in 'node_dict'\n",
    "for u in nodes:\n",
    "    d = data[data.user_id == u]\n",
    "    node_dict[u] = {}\n",
    "    \n",
    "    # Store the number of times the user organized a task\n",
    "    node_dict[u]['org_times'] = d.is_organizer.sum()\n",
    "    \n",
    "    # Store the number of unique tasks the user participated in\n",
    "    node_dict[u]['times_of_participation'] = d.task_id.unique().shape[0]\n",
    "    \n",
    "    # Store the average longitude of tasks organized by the user\n",
    "    node_dict[u]['task_longitude'] = d.longitude.mean()\n",
    "    \n",
    "    # Store the average latitude of tasks organized by the user\n",
    "    node_dict[u]['task_latitude'] = d.latitude.mean()\n",
    "\n",
    "# Create a dictionary 'location_dict' to map unique user locations to numeric indices\n",
    "location_dict = dict([(addr, i) for i, addr in enumerate(data.user_location.unique())])\n",
    "\n",
    "# Encode 'user_location' with corresponding numeric values using 'location_dict'\n",
    "data['user_location'] = data.apply(lambda x: location_dict[x['user_location']], axis=1)\n",
    "\n",
    "# Further update the 'node_dict' with the most common location ID for each user\n",
    "for u in nodes:\n",
    "    d = data[data.user_id == u]\n",
    "    node_dict[u]['user_location'] = d.user_location.mode()[0]"
   ]
  },
  {
   "cell_type": "code",
   "execution_count": 5,
   "metadata": {},
   "outputs": [],
   "source": [
    "# Create a NetworkX graph called 'graph' to represent the user network\n",
    "graph = nx.Graph()\n",
    "\n",
    "# Add nodes to the graph, each representing a user with their respective attributes\n",
    "for user, attr in node_dict.items():\n",
    "    graph.add_node(user,\n",
    "                   org_times=attr['org_times'],\n",
    "                   join_times=attr['times_of_participation'],\n",
    "                   loc=attr['user_location'],\n",
    "                   longitude=attr['task_longitude'],\n",
    "                   latitude=attr['task_latitude']\n",
    "                   )\n",
    "\n",
    "# Create a dictionary 'edge_dict' to store the number of interactions between user pairs\n",
    "edge_dict = {}\n",
    "\n",
    "# Iterate through each unique task to identify interactions between users\n",
    "for t in data.task_id.unique():\n",
    "    task = data[data.task_id == t]\n",
    "    users = list(task.user_id.unique())\n",
    "\n",
    "    # For each pair of participants, create an edge between them\n",
    "    for i in range(len(users)):\n",
    "        for j in range(i + 1, len(users)):\n",
    "            u, v = users[i], users[j]\n",
    "            if (u, v) not in edge_dict and (v, u) not in edge_dict:\n",
    "                edge_dict[(u, v)] = 1\n",
    "            elif (u, v) in edge_dict:\n",
    "                edge_dict[(u, v)] += 1\n",
    "            else:\n",
    "                edge_dict[(v, u)] += 1\n",
    "\n",
    "# Add edges to the NetworkX graph, representing interactions with their weights\n",
    "for e, w in edge_dict.items():\n",
    "    graph.add_edge(e[0], e[1], weight=w)"
   ]
  },
  {
   "attachments": {},
   "cell_type": "markdown",
   "metadata": {},
   "source": [
    "## Code Explanation: Generating and Splitting Node Pairs for Graph Data\n",
    "\n",
    "This code performs several tasks related to processing a given graph data represented using NetworkX library.\n",
    "\n",
    "### Generating Node Pairs and Weights\n",
    "\n",
    "1. `itertools.combinations(graph.nodes, 2)` is used to generate all possible pairs of nodes from the graph. This step ensures that every possible edge (node pair) is considered for the dataset. The resulting pairs are stored in the `node_pairs` list.\n",
    "\n",
    "2. An empty list `edge_list` is initialized to store each node pair along with its weight. The weight of an edge is set to 1 if it exists between the two nodes, and 0 if no edge is present.\n",
    "\n",
    "3. The code iterates through each node pair in `node_pairs`. For each pair, it checks if there is an edge between the two nodes using `graph.has_edge(u, v)` function.\n",
    "\n",
    "4. If an edge exists (i.e., there is a connection between the nodes), the pair and its corresponding weight (1) are appended to the `edge_list`.\n",
    "\n",
    "5. If no edge exists between the nodes, the pair and a weight of 0 are appended to the `edge_list`.\n",
    "\n",
    "### Creating DataFrame and Data Splitting\n",
    "\n",
    "6. A Pandas DataFrame `df` is created to store the node pairs and their corresponding weights. This DataFrame serves as the dataset for further analysis or machine learning tasks.\n",
    "\n",
    "7. The code then splits the dataset into training, testing, and validation sets using `train_test_split()` from scikit-learn. The parameter `test_size` controls the proportion of the dataset assigned to each split.\n",
    "\n",
    "8. The resulting training, testing, and validation datasets are exported to separate CSV files: 'Data_split_train.csv', 'Data_split_test.csv', and 'Data_split_val.csv' respectively.\n",
    "\n",
    "The main purpose of this code is likely to prepare the dataset for a machine learning task, where the goal is to predict the presence or absence of edges between nodes in the given graph."
   ]
  },
  {
   "cell_type": "code",
   "execution_count": 11,
   "metadata": {},
   "outputs": [],
   "source": [
    "import itertools\n",
    "from sklearn.model_selection import train_test_split\n",
    "\n",
    "# Get all possible pairs of nodes from the graph\n",
    "node_pairs = list(itertools.combinations(graph.nodes, 2))\n",
    "\n",
    "# Initialize a list to store node pairs and their corresponding weights\n",
    "edge_list = []\n",
    "\n",
    "# Iterate through each pair of nodes\n",
    "for u, v in node_pairs:\n",
    "    # Check if there is an edge between the two nodes\n",
    "    if graph.has_edge(u, v):\n",
    "        # If an edge exists, get the weight of the edge\n",
    "        weight = graph.get_edge_data(u, v)['weight']\n",
    "        \n",
    "        # Check if the weight is greater than 0\n",
    "        if weight > 0:\n",
    "            # If the weight is greater than 0, set it to 1\n",
    "            weight = 1\n",
    "        else:\n",
    "            # If the weight is not greater than 0, set it to 0\n",
    "            weight = 0\n",
    "            \n",
    "        edge_list.append((u, v, weight))\n",
    "    else:\n",
    "        # If no edge exists, set the weight to 0\n",
    "        edge_list.append((u, v, 0))\n",
    "\n",
    "# Create a Pandas DataFrame to store the node pairs and their weights\n",
    "df = pd.DataFrame(edge_list, columns=['Node1', 'Node2', 'Weight'])\n",
    "\n",
    "# Split the dataset into training, testing, and validation sets with shuffling\n",
    "train, temp = train_test_split(df, test_size=0.3, random_state=42, shuffle=True)\n",
    "test, val = train_test_split(temp, test_size=0.5, random_state=42, shuffle=True)\n",
    "\n",
    "# Export the datasets to CSV files\n",
    "train.to_csv('Data_split_train.csv', index=False)\n",
    "test.to_csv('Data_split_test.csv', index=False)\n",
    "val.to_csv('Data_split_val.csv', index=False)"
   ]
  },
  {
   "attachments": {},
   "cell_type": "markdown",
   "metadata": {},
   "source": [
    "# Comparing coefficients for link pridiction\n",
    "Comparing AAI Jaccard coefficient and CNC in AUC-ROC, P@K and AUPR"
   ]
  },
  {
   "cell_type": "code",
   "execution_count": 12,
   "metadata": {},
   "outputs": [],
   "source": [
    "def precision_at_k(y_true, y_scores, k):\n",
    "    \"\"\"\n",
    "    Function to calculate precision at k.\n",
    "\n",
    "    Parameters:\n",
    "        y_true (list): Actual labels\n",
    "        y_scores (list): Predicted scores\n",
    "        k (int): The cut-off rank (k)\n",
    "\n",
    "    Returns:\n",
    "        float: Precision at rank k\n",
    "    \"\"\"\n",
    "\n",
    "    # Sort y_scores and y_true in descending order of y_scores\n",
    "    sorted_indexes = np.argsort(y_scores)[::-1]\n",
    "    y_scores_sorted = y_scores[sorted_indexes]\n",
    "    y_true_sorted = y_true[sorted_indexes]\n",
    "\n",
    "    # Calculate precision at k\n",
    "    precision = sum(y_true_sorted[:k]) / k\n",
    "\n",
    "    return precision"
   ]
  },
  {
   "cell_type": "code",
   "execution_count": 13,
   "metadata": {},
   "outputs": [],
   "source": [
    "from sklearn.metrics import roc_curve, auc, roc_auc_score, average_precision_score\n",
    "\n",
    "def evaluate_performance(df, ground_truth_column, prediction_column, k):\n",
    "    \"\"\"\n",
    "    Function to evaluate the performance of the predictions using AUC-ROC and P@K.\n",
    "    \"\"\"\n",
    "\n",
    "    # Calculate the AUC-ROC\n",
    "    auc_roc = roc_auc_score(df[ground_truth_column], df[prediction_column])\n",
    "\n",
    "    # Print the AUC-ROC score\n",
    "    print(f\"AUC-ROC: {auc_roc}\")\n",
    "\n",
    "    # Calculate the Precision at K\n",
    "    p_at_k = precision_at_k(df[ground_truth_column].values, df[prediction_column].values, k)\n",
    "    \n",
    "    # Print the P@K score\n",
    "    print(f\"Precision at K={k}: {p_at_k}\")\n",
    "    \n",
    "    # Calculate the Area Under Precision-Recall curve (AUPR)\n",
    "    aupr = average_precision_score(df[ground_truth_column], df[prediction_column])\n",
    "    \n",
    "    # Print the AUPR score\n",
    "    print(f\"Area Under Precision-Recall curve (AUPR): {aupr}\")\n",
    "\n",
    "    # Plot the ROC curve\n",
    "    #fpr, tpr, _ = roc_curve(df[ground_truth_column], df[prediction_column])\n",
    "    #plt.figure()\n",
    "    #lw = 2  # line width\n",
    "    #plt.plot(fpr, tpr, color='darkorange', lw=lw, label='ROC curve (area = %0.2f)' % auc_roc)\n",
    "    #plt.plot([0, 1], [0, 1], color='navy', lw=lw, linestyle='--')\n",
    "    #plt.xlim([0.0, 1.0])\n",
    "    #plt.ylim([0.0, 1.05])\n",
    "    #plt.xlabel('False Positive Rate')\n",
    "    #plt.ylabel('True Positive Rate')\n",
    "    #plt.title('Receiver Operating Characteristic')\n",
    "    #plt.legend(loc=\"lower right\")\n",
    "    #plt.show()"
   ]
  },
  {
   "cell_type": "code",
   "execution_count": 14,
   "metadata": {},
   "outputs": [
    {
     "name": "stdout",
     "output_type": "stream",
     "text": [
      "AUC-ROC: 0.9959479364522148\n",
      "Precision at K=50: 1.0\n",
      "Area Under Precision-Recall curve (AUPR): 0.8705086191599317\n",
      "AUC-ROC: 0.9966070470515924\n",
      "Precision at K=50: 1.0\n",
      "Area Under Precision-Recall curve (AUPR): 0.8731565291156204\n",
      "AUC-ROC: 0.9951151327784071\n",
      "Precision at K=50: 1.0\n",
      "Area Under Precision-Recall curve (AUPR): 0.8701088231760461\n"
     ]
    }
   ],
   "source": [
    "import pandas as pd\n",
    "import matplotlib.pyplot as plt\n",
    "\n",
    "def calculate_cnc(file_path, graph):\n",
    "    \"\"\"\n",
    "    Function to calculate Common Neighbors Count (CNC)\n",
    "    for each pair of nodes in a given file and graph.\n",
    "    \"\"\"\n",
    "\n",
    "    # Load the data from the file\n",
    "    df = pd.read_csv(file_path)\n",
    "    \n",
    "    cnc_values = []\n",
    "    \n",
    "    # Iterate over each row in the dataframe\n",
    "    for index, row in df.iterrows():\n",
    "        u, v = row['Node1'], row['Node2']\n",
    "        \n",
    "        # Get the neighbors of each node\n",
    "        u_neighbors = set(graph.neighbors(u))\n",
    "        v_neighbors = set(graph.neighbors(v))\n",
    "        \n",
    "        # Calculate the common neighbors count (CNC)\n",
    "        common_neighbors = len(u_neighbors.intersection(v_neighbors))\n",
    "        \n",
    "        # Add the CNC to the list\n",
    "        cnc_values.append(common_neighbors)\n",
    "\n",
    "    # Add the CNC values as a new column to the dataframe\n",
    "    df['CNC'] = cnc_values\n",
    "\n",
    "    return df\n",
    "\n",
    "\n",
    "# Process the files\n",
    "for file_path in ['Data_split_train.csv', 'Data_split_test.csv', 'Data_split_val.csv']:\n",
    "    # Calculate the CNC values\n",
    "    df = calculate_cnc(file_path, graph)\n",
    "    \n",
    "    # Evaluate the performance\n",
    "    evaluate_performance(df, 'Weight', 'CNC', k=50)\n",
    "\n",
    "    # Save the dataframe to a new csv file\n",
    "    df.to_csv(file_path.replace('.csv', '_cnc.csv'), index=False)"
   ]
  },
  {
   "cell_type": "code",
   "execution_count": 16,
   "metadata": {},
   "outputs": [],
   "source": [
    "# Calculate the CNC values\n",
    "for file in ['Data_split_train.csv', 'Data_split_test.csv', 'Data_split_val.csv']:\n",
    "    data_with_cnc = calculate_cnc(file, graph)\n",
    "    \n",
    "    data_with_cnc.drop_duplicates(subset=['CNC', 'Weight'], inplace=True)\n",
    "    # Save the dataframe to a new csv file\n",
    "    data_with_cnc.to_csv(file.replace('.csv', '_cnc_drop.csv'), index=False)"
   ]
  },
  {
   "cell_type": "code",
   "execution_count": 17,
   "metadata": {},
   "outputs": [
    {
     "name": "stdout",
     "output_type": "stream",
     "text": [
      "AUC-ROC: 0.6468446601941747\n",
      "Precision at K=10: 1.0\n",
      "Area Under Precision-Recall curve (AUPR): 0.7728183940053687\n"
     ]
    }
   ],
   "source": [
    "# Load the data with CNC values\n",
    "df = pd.read_csv('Data_split_train_cnc_drop.csv')\n",
    "\n",
    "# Evaluate the performance of the CNC calculation\n",
    "evaluate_performance(df, 'Weight', 'CNC', k=10)"
   ]
  },
  {
   "cell_type": "code",
   "execution_count": 42,
   "metadata": {},
   "outputs": [
    {
     "name": "stdout",
     "output_type": "stream",
     "text": [
      "AUC-ROC: 0.6473684210526316\n",
      "Precision at K=10: 1.0\n",
      "Area Under Precision-Recall curve (AUPR): 0.7703288609037781\n"
     ]
    }
   ],
   "source": [
    "# Load the data with CNC values\n",
    "df = pd.read_csv('Data_split_test_cnc_drop.csv')\n",
    "\n",
    "# Evaluate the performance of the CNC calculation\n",
    "evaluate_performance(df, 'Weight', 'CNC', k=10)"
   ]
  },
  {
   "cell_type": "code",
   "execution_count": 43,
   "metadata": {},
   "outputs": [
    {
     "name": "stdout",
     "output_type": "stream",
     "text": [
      "AUC-ROC: 0.6832292595896521\n",
      "Precision at K=10: 1.0\n",
      "Area Under Precision-Recall curve (AUPR): 0.8167663076551868\n"
     ]
    }
   ],
   "source": [
    "# Load the data with CNC values\n",
    "df = pd.read_csv('Data_split_val_cnc_drop.csv')\n",
    "\n",
    "# Evaluate the performance of the CNC calculation\n",
    "evaluate_performance(df, 'Weight', 'CNC', k=10)"
   ]
  },
  {
   "cell_type": "code",
   "execution_count": 18,
   "metadata": {},
   "outputs": [
    {
     "name": "stdout",
     "output_type": "stream",
     "text": [
      "AUC-ROC: 0.7477528124886331\n",
      "Precision at K=50: 0.94\n",
      "Area Under Precision-Recall curve (AUPR): 0.7858435226488587\n",
      "AUC-ROC: 0.834942050228922\n",
      "Precision at K=50: 0.98\n",
      "Area Under Precision-Recall curve (AUPR): 0.8472208549491151\n",
      "AUC-ROC: 0.8323476535347754\n",
      "Precision at K=50: 0.94\n",
      "Area Under Precision-Recall curve (AUPR): 0.8414361415224966\n"
     ]
    }
   ],
   "source": [
    "import pandas as pd\n",
    "import matplotlib.pyplot as plt\n",
    "from networkx import jaccard_coefficient\n",
    "from sklearn.metrics import roc_curve, auc, roc_auc_score\n",
    "\n",
    "def calculate_jaccard(file_path, graph):\n",
    "    \"\"\"\n",
    "    Function to calculate Jaccard Coefficient\n",
    "    for each pair of nodes in a given file and graph.\n",
    "    \"\"\"\n",
    "\n",
    "    # Load the data from the file\n",
    "    df = pd.read_csv(file_path)\n",
    "    \n",
    "    predictions = []\n",
    "    \n",
    "    # Iterate over each row in the dataframe\n",
    "    for index, row in df.iterrows():\n",
    "        u, v = row['Node1'], row['Node2']\n",
    "        \n",
    "        # Calculate the Jaccard Coefficient\n",
    "        score = jaccard_coefficient(graph, [(u, v)])\n",
    "        \n",
    "        # Add the score to the predictions list\n",
    "        predictions.append([p for i,j,p in score][0])\n",
    "\n",
    "    # Add the predictions as a new column to the dataframe\n",
    "    df['Jaccard'] = predictions\n",
    "\n",
    "    # Drop duplicates where Jaccard and weight are the same\n",
    "    df.drop_duplicates(subset=['Jaccard', 'Weight'], keep='first', inplace=True)\n",
    "\n",
    "    return df\n",
    "\n",
    "\n",
    "# Process the files\n",
    "for file_path in ['Data_split_train.csv', 'Data_split_test.csv', 'Data_split_val.csv']:\n",
    "    # Calculate the Jaccard Coefficients\n",
    "    df = calculate_jaccard(file_path, graph)\n",
    "    \n",
    "    # Evaluate the performance\n",
    "    evaluate_performance(df, 'Weight', 'Jaccard', k=50)\n",
    "\n",
    "    # Save the dataframe to a new csv file\n",
    "    df.to_csv(file_path.replace('.csv', '_jaccard.csv'), index=False)"
   ]
  },
  {
   "cell_type": "code",
   "execution_count": 19,
   "metadata": {},
   "outputs": [],
   "source": [
    "# List of file paths\n",
    "file_paths = ['Data_split_train.csv', 'Data_split_test.csv', 'Data_split_val.csv']\n",
    "\n",
    "# Calculate Jaccard Coefficient for each file\n",
    "for file_path in file_paths:\n",
    "    df = calculate_jaccard(file_path, graph)\n",
    "    df.to_csv(file_path.split('.')[0] + '_jaccard_drop.csv', index=False)"
   ]
  },
  {
   "cell_type": "code",
   "execution_count": 20,
   "metadata": {},
   "outputs": [
    {
     "name": "stdout",
     "output_type": "stream",
     "text": [
      "AUC-ROC: 0.7477528124886331\n",
      "Precision at K=10: 0.8\n",
      "Area Under Precision-Recall curve (AUPR): 0.7858435226488587\n"
     ]
    }
   ],
   "source": [
    "# Load the data with Jaccard values\n",
    "df = pd.read_csv('Data_split_train_jaccard_drop.csv')\n",
    "\n",
    "# Evaluate the performance of the Jaccard Coefficient calculation\n",
    "evaluate_performance(df, 'Weight', 'Jaccard', k=10)"
   ]
  },
  {
   "cell_type": "code",
   "execution_count": 44,
   "metadata": {},
   "outputs": [
    {
     "name": "stdout",
     "output_type": "stream",
     "text": [
      "AUC-ROC: 0.834942050228922\n",
      "Precision at K=10: 0.9\n",
      "Area Under Precision-Recall curve (AUPR): 0.8472208549491151\n"
     ]
    }
   ],
   "source": [
    "# Load the data with Jaccard values\n",
    "df = pd.read_csv('Data_split_test_jaccard_drop.csv')\n",
    "\n",
    "# Evaluate the performance of the Jaccard Coefficient calculation\n",
    "evaluate_performance(df, 'Weight', 'Jaccard', k=10)"
   ]
  },
  {
   "cell_type": "code",
   "execution_count": 45,
   "metadata": {},
   "outputs": [
    {
     "name": "stdout",
     "output_type": "stream",
     "text": [
      "AUC-ROC: 0.8323476535347754\n",
      "Precision at K=10: 0.8\n",
      "Area Under Precision-Recall curve (AUPR): 0.8414361415224966\n"
     ]
    }
   ],
   "source": [
    "# Load the data with Jaccard values\n",
    "df = pd.read_csv('Data_split_val_jaccard_drop.csv')\n",
    "\n",
    "# Evaluate the performance of the Jaccard Coefficient calculation\n",
    "evaluate_performance(df, 'Weight', 'Jaccard', k=10)"
   ]
  },
  {
   "attachments": {},
   "cell_type": "markdown",
   "metadata": {},
   "source": [
    "## Function Explanation: Calculating Adamic-Adar Index for Node Pairs in a Graph\n",
    "\n",
    "The provided function, `calculate_adamic_adar_index(G, node_pairs)`, computes the Adamic-Adar index for a given list of node pairs in a NetworkX graph.\n",
    "\n",
    "### Function Parameters:\n",
    "\n",
    "- `G` (NetworkX graph): The input graph on which the Adamic-Adar index will be computed.\n",
    "- `node_pairs` (list of tuples): A list containing tuples of node pairs for which the index will be calculated.\n",
    "\n",
    "### Return Value:\n",
    "\n",
    "The function returns a list containing the Adamic-Adar index for each node pair in the same order as they appear in the input list.\n",
    "\n",
    "### Adamic-Adar Index:\n",
    "\n",
    "The Adamic-Adar index is a measure of similarity between two nodes in a graph based on their shared neighbors. It is often used in social network analysis and link prediction tasks.\n",
    "\n",
    "### Function Implementation:\n",
    "\n",
    "1. The function initializes an empty list called `adamic_adar_index` to store the calculated index for each node pair.\n",
    "\n",
    "2. It then iterates through each node pair in the `node_pairs` list.\n",
    "\n",
    "3. For each node pair, the function initializes a variable `index` to 0, which will accumulate the Adamic-Adar index for the current pair.\n",
    "\n",
    "4. It finds the common neighbors between the two nodes in the current pair using the `nx.common_neighbors()` function from NetworkX.\n",
    "\n",
    "5. For each common neighbor, the function calculates the contribution to the Adamic-Adar index. It does this by adding the reciprocal of the logarithm of the degree of that common neighbor to the `index`. The logarithm of the degree is used to assign higher weight to common neighbors with lower degrees, emphasizing the importance of rare common neighbors.\n",
    "\n",
    "6. After considering all the common neighbors, the function stores the computed Adamic-Adar index for the current node pair in the `adamic_adar_index` list.\n",
    "\n",
    "7. The function repeats the process for each node pair in the input list, accumulating the index values in the `adamic_adar_index` list.\n",
    "\n",
    "8. Finally, the function returns the list `adamic_adar_index`, which contains the Adamic-Adar index values for each node pair in the same order as they were provided.\n",
    "\n",
    "The Adamic-Adar index is a useful metric in various graph-based applications, particularly in tasks involving link prediction, recommendation systems, and similarity-based analysis in social networks."
   ]
  },
  {
   "cell_type": "code",
   "execution_count": 21,
   "metadata": {},
   "outputs": [],
   "source": [
    "def calculate_adamic_adar_index(G, node_pairs):\n",
    "    \"\"\"\n",
    "    Calculate Adamic-Adar index for given node pairs in the graph G.\n",
    "\n",
    "    Parameters:\n",
    "        G (NetworkX graph): The input graph.\n",
    "        node_pairs (list of tuples): A list of tuples containing node pairs for which to calculate the index.\n",
    "\n",
    "    Returns:\n",
    "        list: A list containing the Adamic-Adar index for each node pair.\n",
    "    \"\"\"\n",
    "    adamic_adar_index = []\n",
    "\n",
    "    # Iterate through each node pair in the list\n",
    "    for pair in node_pairs:\n",
    "        index = 0\n",
    "        common_neighbors = list(nx.common_neighbors(G, pair[0], pair[1]))\n",
    "\n",
    "        # Calculate the Adamic-Adar index for the current node pair\n",
    "        for node in common_neighbors:\n",
    "            # Add the reciprocal of the logarithm of the degree of the common neighbor\n",
    "            index += 1 / np.log(G.degree(node))\n",
    "\n",
    "        # Store the calculated index for the current node pair\n",
    "        adamic_adar_index.append(index)\n",
    "\n",
    "    # Return the list containing the Adamic-Adar index for each node pair\n",
    "    return adamic_adar_index"
   ]
  },
  {
   "cell_type": "code",
   "execution_count": 22,
   "metadata": {},
   "outputs": [
    {
     "name": "stdout",
     "output_type": "stream",
     "text": [
      "AUC-ROC: 0.9963361532823463\n",
      "Precision at K=50: 1.0\n",
      "Area Under Precision-Recall curve (AUPR): 0.9069394015277974\n",
      "AUC-ROC: 0.9969860863019904\n",
      "Precision at K=50: 1.0\n",
      "Area Under Precision-Recall curve (AUPR): 0.9092878303769005\n",
      "AUC-ROC: 0.9954839708759364\n",
      "Precision at K=50: 1.0\n",
      "Area Under Precision-Recall curve (AUPR): 0.9064111571396146\n"
     ]
    }
   ],
   "source": [
    "import pandas as pd\n",
    "import matplotlib.pyplot as plt\n",
    "from sklearn.metrics import roc_curve, auc, roc_auc_score\n",
    "\n",
    "def calculate_adamic_adar(file_path, graph):\n",
    "    \"\"\"\n",
    "    Function to calculate Adamic Adar Index for each pair of nodes in a given file and graph.\n",
    "    \"\"\"\n",
    "\n",
    "    # Load the data from the file\n",
    "    df = pd.read_csv(file_path)\n",
    "    \n",
    "    # Get the node pairs from the dataframe\n",
    "    node_pairs = [(row['Node1'], row['Node2']) for _, row in df.iterrows()]\n",
    "    \n",
    "    # Calculate the Adamic Adar Index\n",
    "    adamic_adar_index = calculate_adamic_adar_index(graph, node_pairs)\n",
    "\n",
    "    # Add the Adamic Adar Index as a new column to the dataframe\n",
    "    df['AdamicAdar'] = adamic_adar_index\n",
    "\n",
    "    return df\n",
    "\n",
    "# Process the files\n",
    "for file_path in ['Data_split_train.csv', 'Data_split_test.csv', 'Data_split_val.csv']:\n",
    "    # Calculate the Adamic Adar Index\n",
    "    df = calculate_adamic_adar(file_path, graph)\n",
    "    \n",
    "    # Evaluate the performance\n",
    "    evaluate_performance(df, 'Weight', 'AdamicAdar', k=50)\n",
    "\n",
    "    # Save the dataframe to a new csv file\n",
    "    df.to_csv(file_path.replace('.csv', '_adar.csv'), index=False)"
   ]
  },
  {
   "cell_type": "code",
   "execution_count": 23,
   "metadata": {},
   "outputs": [],
   "source": [
    "# Read the training data containing node pairs and weights from 'Data_split_train.csv'\n",
    "weight_train = pd.read_csv('Data_split_train.csv')  # Calculate Adamic-Adar index"
   ]
  },
  {
   "cell_type": "code",
   "execution_count": 24,
   "metadata": {},
   "outputs": [],
   "source": [
    "# Extract node pairs from the DataFrame for Adamic-Adar index calculation\n",
    "node_pairs = [(row['Node1'], row['Node2']) for _, row in weight_train.iterrows()]\n",
    "\n",
    "# Calculate the Adamic-Adar index for the node pairs using the given graph\n",
    "adamic_adar_index = calculate_adamic_adar_index(graph, node_pairs)\n",
    "\n",
    "# Add the computed Adamic-Adar index as a new column 'AAI' to the DataFrame\n",
    "weight_train['AAI'] = adamic_adar_index\n",
    "\n",
    "# Save the DataFrame with the added Adamic-Adar index to a new CSV file\n",
    "weight_train.to_csv('Data_split_train_weight_AAI.csv', index=False)  # Read CSV file\n"
   ]
  },
  {
   "cell_type": "code",
   "execution_count": 25,
   "metadata": {},
   "outputs": [],
   "source": [
    "# Read the CSV file into a new DataFrame for further processing\n",
    "df = pd.read_csv('Data_split_train_weight_AAI.csv')\n",
    "\n",
    "# Remove duplicate rows and keep only the 'Weight' and 'AAI' columns\n",
    "df = df[['Weight', 'AAI']].drop_duplicates()\n",
    "\n",
    "# Save the processed DataFrame with removed duplicates to a new CSV file\n",
    "df.to_csv('Data_split_train_weights_AAI_drop.csv', index=False)"
   ]
  },
  {
   "cell_type": "code",
   "execution_count": 26,
   "metadata": {},
   "outputs": [],
   "source": [
    "weight_test = pd.read_csv('Data_split_test.csv')"
   ]
  },
  {
   "cell_type": "code",
   "execution_count": 27,
   "metadata": {},
   "outputs": [],
   "source": [
    "# Calculate the Adamic-Adar index for the node pairs using the given graph\n",
    "node_pairs = [(row['Node1'], row['Node2']) for _, row in weight_test.iterrows()]\n",
    "adamic_adar_index = calculate_adamic_adar_index(graph, node_pairs)\n",
    "weight_test['AAI'] = adamic_adar_index\n",
    "\n",
    "weight_test.to_csv('Data_split_train_weight_AAI.csv', index=False)"
   ]
  },
  {
   "cell_type": "code",
   "execution_count": 28,
   "metadata": {},
   "outputs": [],
   "source": [
    "df = pd.read_csv('Data_split_train_weight_AAI.csv')\n",
    "\n",
    "df = df[['Weight', 'AAI']].drop_duplicates()\n",
    "\n",
    "df.to_csv('Data_split_test_weights_AAI_drop.csv', index=False)"
   ]
  },
  {
   "cell_type": "code",
   "execution_count": 51,
   "metadata": {},
   "outputs": [],
   "source": [
    "# Import the pandas library\n",
    "import pandas as pd\n",
    "\n",
    "# Load the validation data from the csv file\n",
    "val_weight = pd.read_csv('Data_split_val.csv')\n",
    "\n",
    "# Compute the Adamic-Adar index for all node pairs in the validation data\n",
    "node_pairs = [(row['Node1'], row['Node2']) for _, row in val_weight.iterrows()]\n",
    "adamic_adar_index = calculate_adamic_adar_index(graph, node_pairs)\n",
    "\n",
    "# Add the computed Adamic-Adar index to the validation data\n",
    "val_weight['AAI'] = adamic_adar_index\n",
    "\n",
    "# Save the updated validation data to a new csv file\n",
    "val_weight.to_csv('Data_split_val_weight_AAI.csv', index=False)"
   ]
  },
  {
   "cell_type": "code",
   "execution_count": 54,
   "metadata": {},
   "outputs": [
    {
     "name": "stdout",
     "output_type": "stream",
     "text": [
      "AUC-ROC: 0.8571129093878355\n",
      "Precision at K=10: 1.0\n",
      "Area Under Precision-Recall curve (AUPR): 0.9098937583153444\n"
     ]
    }
   ],
   "source": [
    "# Load the data with Jaccard values\n",
    "df = pd.read_csv('Data_split_train_weights_AAI_drop.csv')\n",
    "\n",
    "# Evaluate the performance of the Jaccard Coefficient calculation\n",
    "evaluate_performance(df, 'Weight', 'AAI', k=10)"
   ]
  },
  {
   "cell_type": "code",
   "execution_count": 50,
   "metadata": {},
   "outputs": [
    {
     "name": "stdout",
     "output_type": "stream",
     "text": [
      "AUC-ROC: 0.8897074768052127\n",
      "Precision at K=10: 1.0\n",
      "Area Under Precision-Recall curve (AUPR): 0.9107033233168178\n"
     ]
    }
   ],
   "source": [
    "# Load the data with Jaccard values\n",
    "df = pd.read_csv('Data_split_test_weights_AAI_drop.csv')\n",
    "\n",
    "# Evaluate the performance of the Jaccard Coefficient calculation\n",
    "evaluate_performance(df, 'Weight', 'AAI', k=10)"
   ]
  },
  {
   "cell_type": "code",
   "execution_count": 55,
   "metadata": {},
   "outputs": [
    {
     "name": "stdout",
     "output_type": "stream",
     "text": [
      "AUC-ROC: 0.8878190779178073\n",
      "Precision at K=10: 1.0\n",
      "Area Under Precision-Recall curve (AUPR): 0.9095577831788417\n"
     ]
    }
   ],
   "source": [
    "# Load the data with Jaccard values\n",
    "df = pd.read_csv('Data_split_val_weight_AAI.csv')\n",
    "\n",
    "df = df[['Weight', 'AAI']].drop_duplicates()\n",
    "\n",
    "# Evaluate the performance of the Jaccard Coefficient calculation\n",
    "evaluate_performance(df, 'Weight', 'AAI', k=10)"
   ]
  },
  {
   "attachments": {},
   "cell_type": "markdown",
   "metadata": {},
   "source": [
    "# Model Training and Evaluation\n",
    "\n",
    "1. **Reads in the training and testing data:** The training and testing data are read from 'Data_split_train_weights_AAI_drop.csv' and 'Data_split_test_weights_AAI_drop.csv' respectively.\n",
    "\n",
    "2. **Defines the features and target variable:** The feature used for model training is 'AAI' (Adamic-Adar index) and the target variable is 'Weight'.\n",
    "\n",
    "3. **Trains different models:** The models used for training include Random Forest, SVM with Grid Search for hyperparameter tuning, Gradient Boosting Classifier, and XGBoost Classifier. Each of these models is trained on the training data.\n",
    "\n",
    "4. **Evaluates the performance of the models:** The performance of each model is evaluated on the testing data. This helps understand how well the model will perform on unseen data.\n",
    "\n",
    "5. **Prints the model performance scores and classification reports:** The model performance scores (such as precision, recall, f1-score, etc.) and classification reports for each model are printed to understand their performance in a more detailed manner."
   ]
  },
  {
   "cell_type": "code",
   "execution_count": 35,
   "metadata": {},
   "outputs": [
    {
     "name": "stdout",
     "output_type": "stream",
     "text": [
      "              precision    recall  f1-score   support\n",
      "\n",
      "           0       0.79      0.84      0.81      2920\n",
      "           1       0.87      0.83      0.85      3923\n",
      "\n",
      "    accuracy                           0.84      6843\n",
      "   macro avg       0.83      0.84      0.83      6843\n",
      "weighted avg       0.84      0.84      0.84      6843\n",
      "\n"
     ]
    }
   ],
   "source": [
    "# Import the required libraries\n",
    "from sklearn.ensemble import RandomForestClassifier\n",
    "from sklearn.metrics import classification_report\n",
    "\n",
    "\n",
    "# Read the training and testing datasets\n",
    "train_data = pd.read_csv('Data_split_train_weights_AAI_drop.csv')\n",
    "test_data = pd.read_csv('Data_split_test_weights_AAI_drop.csv')\n",
    "\n",
    "# Define the features (X) and target variable (y) for training data\n",
    "X_train = train_data[['AAI']]  # Features (Adamic-Adar index)\n",
    "y_train = train_data['Weight']  # Target variable (Weight)\n",
    "\n",
    "# Define the features (X) and target variable (y) for testing data\n",
    "X_test = test_data[['AAI']]  # Features (Adamic-Adar index)\n",
    "y_test = test_data['Weight']  # Target variable (Weight)\n",
    "\n",
    "# Model Training\n",
    "model = RandomForestClassifier(n_estimators=100, random_state=50)\n",
    "model.fit(X_train, y_train)\n",
    "\n",
    "# 在测试集上评估模型\n",
    "y_pred = model.predict(X_test)\n",
    "\n",
    "print(classification_report(y_test, y_pred))"
   ]
  },
  {
   "cell_type": "code",
   "execution_count": 30,
   "metadata": {},
   "outputs": [
    {
     "name": "stdout",
     "output_type": "stream",
     "text": [
      "              precision    recall  f1-score   support\n",
      "\n",
      "           0       0.81      0.75      0.78      2920\n",
      "           1       0.82      0.87      0.84      3923\n",
      "\n",
      "    accuracy                           0.82      6843\n",
      "   macro avg       0.82      0.81      0.81      6843\n",
      "weighted avg       0.82      0.82      0.82      6843\n",
      "\n"
     ]
    }
   ],
   "source": [
    "from sklearn import svm\n",
    "from sklearn.model_selection import train_test_split\n",
    "from sklearn.metrics import classification_report\n",
    "\n",
    "# 定义特征和目标变量\n",
    "X_train = train_data[['AAI']]\n",
    "y_train = train_data['Weight']\n",
    "\n",
    "X_test = test_data[['AAI']]\n",
    "y_test = test_data['Weight']\n",
    "\n",
    "# 创建SVM模型\n",
    "from sklearn.model_selection import GridSearchCV\n",
    "\n",
    "# 使用最佳参数训练模型\n",
    "model = svm.SVC(C=0.1, kernel='rbf', degree=3, gamma=1)\n",
    "\n",
    "# 训练模型\n",
    "model.fit(X_train, y_train)\n",
    "\n",
    "# 在测试集上评估模型\n",
    "y_pred = model.predict(X_test)\n",
    "\n",
    "print(classification_report(y_test, y_pred))"
   ]
  },
  {
   "cell_type": "code",
   "execution_count": 31,
   "metadata": {},
   "outputs": [
    {
     "name": "stdout",
     "output_type": "stream",
     "text": [
      "              precision    recall  f1-score   support\n",
      "\n",
      "           0       0.81      0.76      0.78      2920\n",
      "           1       0.83      0.86      0.85      3923\n",
      "\n",
      "    accuracy                           0.82      6843\n",
      "   macro avg       0.82      0.81      0.81      6843\n",
      "weighted avg       0.82      0.82      0.82      6843\n",
      "\n"
     ]
    }
   ],
   "source": [
    "# Import the required libraries\n",
    "from sklearn.ensemble import GradientBoostingClassifier\n",
    "from sklearn.metrics import classification_report\n",
    "\n",
    "# Define the features (X) and target variable (y) for training data\n",
    "features = ['Adamic_Adar_Index']\n",
    "target = 'colab'\n",
    "\n",
    "# Define the features (X) and target variable (y) for testing data\n",
    "X_train = train_data[['AAI']]\n",
    "y_train = train_data['Weight']\n",
    "\n",
    "X_test = test_data[['AAI']]\n",
    "y_test = test_data['Weight']\n",
    "\n",
    "# Model Training\n",
    "model = GradientBoostingClassifier(random_state=42)\n",
    "model.fit(X_train, y_train)\n",
    "\n",
    "y_pred = model.predict(X_test)\n",
    "\n",
    "# Model Evaluation\n",
    "print(classification_report(y_test, y_pred))"
   ]
  },
  {
   "cell_type": "code",
   "execution_count": 32,
   "metadata": {},
   "outputs": [],
   "source": [
    "# Import the required libraries\n",
    "#import xgboost as xgb\n",
    "#from sklearn.metrics import classification_report\n",
    "\n",
    "# Define the features (X) and target variable (y) for training data\n",
    "#X_train = train_data[['AAI']]\n",
    "#y_train = train_data['Weight']\n",
    "\n",
    "#X_test = test_data[['AAI']]\n",
    "#y_test = test_data['Weight']\n",
    "\n",
    "# Model Training\n",
    "#model = xgb.XGBClassifier(use_label_encoder=False, eval_metric='logloss', random_state=42)\n",
    "#model.fit(X_train, y_train)\n",
    "\n",
    "\n",
    "#y_pred = model.predict(X_test)\n",
    "\n",
    "# Model Evaluation\n",
    "#print(classification_report(y_test, y_pred))"
   ]
  },
  {
   "attachments": {},
   "cell_type": "markdown",
   "metadata": {},
   "source": [
    "This piece of code carries out the concept of stacking in machine learning. Stacking is an ensemble learning technique that uses predictions from multiple models (base models) to build a new model (meta-model). This new model is used for making predictions on the test set.\n",
    "\n",
    "The steps in this code are:\n",
    "\n",
    "1. **Define features and target variable**: The feature matrix (`X_train` and `X_test`) and the target variable (`y_train` and `y_test`) for both the training and testing datasets are defined.\n",
    "\n",
    "2. **Initialize base models**: Three different base models are initialized, which include RandomForestClassifier, Support Vector Machine (SVC), and GradientBoostingClassifier.\n",
    "\n",
    "3. **Train base models**: Each of the base models is trained on the training data.\n",
    "\n",
    "4. **Generate base model predictions**: Predictions are generated from each base model on both the training and testing datasets.\n",
    "\n",
    "5. **Stack base model predictions**: The predictions from all base models for both the training and testing datasets are stacked together.\n",
    "\n",
    "6. **Initialize and train meta-model**: A meta-model (in this case, XGBoost) is initialized and then trained on the stacked predictions from the base models.\n",
    "\n",
    "7. **Generate final predictions**: The meta-model is used to generate the final predictions on the test dataset.\n",
    "\n",
    "8. **Evaluate model performance**: A classification report is generated and printed, showing precision, recall, f1-score, and support for each class. Also, the accuracy of the final predictions is calculated and printed.\n",
    "\n",
    "This code calculates Adamic-Adar Index for the validation set, then uses base models and a meta-model in a stacking ensemble to predict the target variable on the validation set. The predictions are then evaluated using a classification report, accuracy score, and an ROC curve."
   ]
  },
  {
   "cell_type": "code",
   "execution_count": 57,
   "metadata": {},
   "outputs": [
    {
     "name": "stdout",
     "output_type": "stream",
     "text": [
      "              precision    recall  f1-score   support\n",
      "\n",
      "           0       0.79      0.84      0.81      2920\n",
      "           1       0.87      0.83      0.85      3923\n",
      "\n",
      "    accuracy                           0.84      6843\n",
      "   macro avg       0.83      0.84      0.83      6843\n",
      "weighted avg       0.84      0.84      0.84      6843\n",
      "\n",
      "Model accuracy: 0.835452287008622\n"
     ]
    }
   ],
   "source": [
    "import numpy as np\n",
    "from sklearn.ensemble import RandomForestClassifier, GradientBoostingClassifier\n",
    "from sklearn import svm\n",
    "from sklearn.model_selection import train_test_split\n",
    "from sklearn.metrics import classification_report, accuracy_score\n",
    "\n",
    "# Define features and target variable\n",
    "X_train = train_data[['AAI']]\n",
    "y_train = train_data['Weight']\n",
    "\n",
    "X_test = test_data[['AAI']]\n",
    "y_test = test_data['Weight']\n",
    "\n",
    "#Create and train base models\n",
    "model1 = RandomForestClassifier(n_estimators=100, random_state=50)\n",
    "model2 = svm.SVC(C=0.1, kernel='rbf', degree=3, gamma=1)\n",
    "model3 = GradientBoostingClassifier(random_state=42)\n",
    "\n",
    "model1.fit(X_train, y_train)\n",
    "model2.fit(X_train, y_train)\n",
    "model3.fit(X_train, y_train)\n",
    "\n",
    "#Make predictions on the training and test sets\n",
    "train_pred1 = model1.predict(X_train)\n",
    "train_pred2 = model2.predict(X_train)\n",
    "train_pred3 = model3.predict(X_train)\n",
    "\n",
    "test_pred1 = model1.predict(X_test)\n",
    "test_pred2 = model2.predict(X_test)\n",
    "test_pred3 = model3.predict(X_test)\n",
    "\n",
    "#Use predictions as new features\n",
    "stacked_train_predictions = np.column_stack((train_pred1, train_pred2, train_pred3))\n",
    "stacked_test_predictions = np.column_stack((test_pred1, test_pred2, test_pred3))\n",
    "\n",
    "#Create and train the meta-model\n",
    "meta_model = RandomForestClassifier(n_estimators=100, random_state=50)\n",
    "meta_model.fit(stacked_train_predictions, y_train)\n",
    "\n",
    "#Make predictions on the test set using the meta-model\n",
    "final_predictions = meta_model.predict(stacked_test_predictions)\n",
    "\n",
    "#Output the classification report for the predictions\n",
    "print(classification_report(y_test, final_predictions))\n",
    "\n",
    "#Calculate and print the model accuracy\n",
    "accuracy = accuracy_score(y_test, final_predictions)\n",
    "print(f\"Model accuracy: {accuracy}\")"
   ]
  },
  {
   "cell_type": "code",
   "execution_count": 58,
   "metadata": {},
   "outputs": [
    {
     "data": {
      "image/png": "[encoded data removed]",
      "text/plain": [
       "<Figure size 640x480 with 1 Axes>"
      ]
     },
     "metadata": {},
     "output_type": "display_data"
    }
   ],
   "source": [
    "from sklearn.metrics import roc_curve, auc\n",
    "import matplotlib.pyplot as plt\n",
    "\n",
    "# Compute the false positive rate, true positive rate and thresholds for the ROC curve\n",
    "fpr, tpr, thresholds = roc_curve(y_test, final_predictions)\n",
    "\n",
    "# Compute the area under the ROC curve\n",
    "roc_auc = auc(fpr, tpr)\n",
    "\n",
    "# Plot the ROC curve\n",
    "plt.figure()\n",
    "lw = 2\n",
    "plt.plot(fpr, tpr, color='darkorange', lw=lw, label='ROC curve (area = %0.2f)' % roc_auc)\n",
    "plt.plot([0, 1], [0, 1], color='navy', lw=lw, linestyle='--')\n",
    "plt.xlim([0.0, 1.0])\n",
    "plt.ylim([0.0, 1.05])\n",
    "plt.xlabel('False Positive Rate')\n",
    "plt.ylabel('True Positive Rate')\n",
    "plt.title('Receiver Operating Characteristic')\n",
    "plt.legend(loc=\"lower right\")\n",
    "plt.show()"
   ]
  },
  {
   "attachments": {},
   "cell_type": "markdown",
   "metadata": {},
   "source": [
    "# Applying the Stacking Ensemble Framework to the Validation Dataset\n",
    "\n",
    "This code block performs the following steps:\n",
    "\n",
    "1. **Load the Validation Data:** It reads in the validation data from a CSV file.\n",
    "\n",
    "2. **Calculate Adamic-Adar Index:** For each pair of nodes in the validation data, it calculates the Adamic-Adar index. This index is then added as a new column in the validation data. The updated validation data is saved to a new CSV file.\n",
    "\n",
    "3. **Predict with Base Models:** The Adamic-Adar index values are extracted from the validation data and used as input to the base models (the same models trained in the stacking ensemble framework). Each base model makes predictions on the validation data.\n",
    "\n",
    "4. **Create New Features:** The predictions made by each of the base models on the validation data are stacked together to form a new set of features.\n",
    "\n",
    "5. **Predict with Meta-Model:** These new features are then used as input to the meta-model, which makes the final predictions on the validation data.\n",
    "\n",
    "6. **Add Predictions to Data:** The final predictions are added to the validation data as a new column and the updated validation data is printed and saved to a new CSV file.\n",
    "\n",
    "7. **Evaluate Model Performance:** The predictions are extracted from the validation data along with the actual target values. A classification report is printed to provide detailed performance metrics. The overall accuracy of the predictions is also calculated and printed. Furthermore, an ROC curve is plotted and the area under the ROC curve is computed to provide another performance metric for the model.\n",
    "\n",
    "This code demonstrates the application of the stacking ensemble framework to the validation dataset and the evaluation of its performance."
   ]
  },
  {
   "cell_type": "code",
   "execution_count": 39,
   "metadata": {},
   "outputs": [
    {
     "name": "stdout",
     "output_type": "stream",
     "text": [
      "         Node1   Node2  Weight       AAI  Predicted\n",
      "0       137679  148743       0  0.000000          0\n",
      "1       117198   80830       0  0.000000          0\n",
      "2        51794   68441       0  0.000000          0\n",
      "3        67923  172715       0  0.000000          0\n",
      "4        98364  142102       0  0.000000          0\n",
      "...        ...     ...     ...       ...        ...\n",
      "536467  120513   65549       0  0.000000          0\n",
      "536468   98243  154341       0  0.800926          1\n",
      "536469  162843    7430       0  0.000000          0\n",
      "536470   60315  115687       0  0.000000          0\n",
      "536471  103827   70594       0  0.000000          0\n",
      "\n",
      "[536472 rows x 5 columns]\n"
     ]
    }
   ],
   "source": [
    "# Load the updated validation data\n",
    "df = pd.read_csv('Data_split_val_weight_AAI.csv')\n",
    "\n",
    "# Extract the Adamic-Adar index as input feature\n",
    "X_new = df[['AAI']]\n",
    "\n",
    "# Use the base models to make predictions on the validation data\n",
    "new_pred1 = model1.predict(X_new)\n",
    "new_pred2 = model2.predict(X_new)\n",
    "new_pred3 = model3.predict(X_new)\n",
    "\n",
    "# Stack the predictions from the base models\n",
    "stacked_new_predictions = np.column_stack((new_pred1, new_pred2, new_pred3))\n",
    "\n",
    "# Use the meta-model to make final predictions on the validation data\n",
    "final_new_predictions = meta_model.predict(stacked_new_predictions)\n",
    "\n",
    "# Add the final predictions to the validation data\n",
    "df['Predicted'] = final_new_predictions\n",
    "\n",
    "# Print the validation data with the predictions\n",
    "print(df)\n",
    "\n",
    "# Save the validation data with the predictions to a new csv file\n",
    "df.to_csv('Data_split_val_VS_AAI.csv', index=False)"
   ]
  },
  {
   "cell_type": "code",
   "execution_count": 59,
   "metadata": {},
   "outputs": [
    {
     "name": "stdout",
     "output_type": "stream",
     "text": [
      "              precision    recall  f1-score   support\n",
      "\n",
      "           0       0.80      0.84      0.82      2918\n",
      "           1       0.87      0.84      0.85      3806\n",
      "\n",
      "    accuracy                           0.84      6724\n",
      "   macro avg       0.83      0.84      0.84      6724\n",
      "weighted avg       0.84      0.84      0.84      6724\n",
      "\n",
      "Model accuracy: 0.8372992266508031\n"
     ]
    }
   ],
   "source": [
    "# Load the validation data with the predictions\n",
    "df = pd.read_csv('Data_split_val_VS_AAI.csv')\n",
    "\n",
    "df = df[['Weight', 'AAI','Predicted']].drop_duplicates()\n",
    "\n",
    "# Extract the predictions and the actual target values\n",
    "predictions = df[['Predicted']]\n",
    "y_test = df[['Weight']]\n",
    "\n",
    "# Print the classification report for the predictions\n",
    "print(classification_report(y_test, predictions))\n",
    "\n",
    "# Compute and print the accuracy of the predictions\n",
    "accuracy = accuracy_score(y_test, predictions)\n",
    "print(f\"Model accuracy: {accuracy}\")"
   ]
  },
  {
   "cell_type": "code",
   "execution_count": 60,
   "metadata": {},
   "outputs": [
    {
     "data": {
      "image/png": "[encoded data removed]",
      "text/plain": [
       "<Figure size 640x480 with 1 Axes>"
      ]
     },
     "metadata": {},
     "output_type": "display_data"
    }
   ],
   "source": [
    "from sklearn.metrics import roc_curve, auc\n",
    "import matplotlib.pyplot as plt\n",
    "\n",
    "# Compute the false positive rate, true positive rate and thresholds for the ROC curve\n",
    "fpr, tpr, thresholds = roc_curve(y_test, predictions)\n",
    "\n",
    "# Compute the area under the ROC curve\n",
    "roc_auc = auc(fpr, tpr)\n",
    "\n",
    "# Plot the ROC curve\n",
    "plt.figure()\n",
    "lw = 2\n",
    "plt.plot(fpr, tpr, color='darkorange', lw=lw, label='ROC curve (area = %0.2f)' % roc_auc)\n",
    "plt.plot([0, 1], [0, 1], color='navy', lw=lw, linestyle='--')\n",
    "plt.xlim([0.0, 1.0])\n",
    "plt.ylim([0.0, 1.05])\n",
    "plt.xlabel('False Positive Rate')\n",
    "plt.ylabel('True Positive Rate')\n",
    "plt.title('Receiver Operating Characteristic')\n",
    "plt.legend(loc=\"lower right\")\n",
    "plt.show()"
   ]
  },
  {
   "attachments": {},
   "cell_type": "markdown",
   "metadata": {},
   "source": [
    "# AAI Model Training -- best resolution\n",
    "\n",
    "1. **Load test candidate multistep dataset:** The testing data are read from 'test candidate multistep dataset.csv'.\n",
    "\n",
    "2. **Caculate:** The feature used for model training is 'AAI' (Adamic-Adar index) and the target variable is 'Weight'.\n",
    "\n",
    "3. **AAI model training:** The model used for training is adamic_adar_index algorithm. The models is used directly on the test data with volunteers' features.\n",
    "\n"
   ]
  },
  {
   "cell_type": "code",
   "execution_count": null,
   "metadata": {},
   "outputs": [],
   "source": [
    "# make admic/adar index prediction\n",
    "# aai model training\n",
    "\n",
    "from networkx.algorithms.link_prediction import adamic_adar_index\n",
    "\n",
    "aai = adamic_adar_index(graph)\n",
    "\n",
    "# load test candidate multistep dataset\n",
    "\n",
    "candidates = pd.read_csv(\"/content/colab_test_candidate_multistep.csv\")\n",
    "candidates.head()\n",
    "\n",
    "# aai training\n",
    "\n",
    "aai_prediction = []\n",
    "for link in candidates.Id:\n",
    "    u, v, t = link.split('-')\n",
    "    score = adamic_adar_index(graph, [(int(u), int(v))])\n",
    "    aai_prediction.append([p for i,j,p in score][0])\n",
    "\n",
    "\n",
    "aai_prediction[:5]\n",
    "candidates['AAI_Predicted'] = aai_prediction\n",
    "candidates.to_csv('/content/aai_outputs.csv', index=None) # remember to set index to `None`"
   ]
  }
 ],
 "metadata": {
  "kernelspec": {
   "display_name": "Python 3",
   "language": "python",
   "name": "python3"
  },
  "language_info": {
   "codemirror_mode": {
    "name": "ipython",
    "version": 3
   },
   "file_extension": ".py",
   "mimetype": "text/x-python",
   "name": "python",
   "nbconvert_exporter": "python",
   "pygments_lexer": "ipython3",
   "version": "3.10.10"
  },
  "orig_nbformat": 4
 },
 "nbformat": 4,
 "nbformat_minor": 2
}
